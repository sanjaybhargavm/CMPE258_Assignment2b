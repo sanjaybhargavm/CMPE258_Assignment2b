{
  "nbformat": 4,
  "nbformat_minor": 0,
  "metadata": {
    "colab": {
      "provenance": []
    },
    "kernelspec": {
      "name": "python3",
      "display_name": "Python 3"
    },
    "language_info": {
      "name": "python"
    }
  },
  "cells": [
    {
      "cell_type": "code",
      "execution_count": 3,
      "metadata": {
        "id": "bx6Wx_0vSVwl"
      },
      "outputs": [],
      "source": [
        "import numpy as np\n",
        "import torch.nn as nn\n",
        "import torch.nn.functional as fun"
      ]
    },
    {
      "cell_type": "code",
      "source": [
        "x = np.random.rand(2, 3)\n",
        "x"
      ],
      "metadata": {
        "colab": {
          "base_uri": "https://localhost:8080/"
        },
        "id": "ahpuv-gkwrgw",
        "outputId": "a7ba5e8f-8dfc-4010-bac9-f0f54b94e0a9"
      },
      "execution_count": 4,
      "outputs": [
        {
          "output_type": "execute_result",
          "data": {
            "text/plain": [
              "array([[0.88451896, 0.23431214, 0.0164485 ],\n",
              "       [0.21165959, 0.9029372 , 0.03248161]])"
            ]
          },
          "metadata": {},
          "execution_count": 4
        }
      ]
    },
    {
      "cell_type": "markdown",
      "source": [
        "scalar vector multiplication"
      ],
      "metadata": {
        "id": "u2R8rH5VAgow"
      }
    },
    {
      "cell_type": "code",
      "source": [
        "scalar = np.array([4])\n",
        "vector = np.array([1, 3, 4])\n",
        "print(np.einsum('i,j->j', scalar, vector))"
      ],
      "metadata": {
        "colab": {
          "base_uri": "https://localhost:8080/"
        },
        "id": "kA1gn3aRCUFI",
        "outputId": "4bd37f18-0f47-42cb-b4ad-3b8f16eb7264"
      },
      "execution_count": 5,
      "outputs": [
        {
          "output_type": "stream",
          "name": "stdout",
          "text": [
            "[ 4 12 16]\n"
          ]
        }
      ]
    },
    {
      "cell_type": "markdown",
      "source": [
        "vector vector multiplications "
      ],
      "metadata": {
        "id": "cqo06_gYCAIL"
      }
    },
    {
      "cell_type": "code",
      "source": [
        "\n",
        "a =np.array([1,2,3])\n",
        "b =np.array([2,4,6])\n",
        "\n",
        "np.einsum(\"i,i->i\",b,a)"
      ],
      "metadata": {
        "colab": {
          "base_uri": "https://localhost:8080/"
        },
        "id": "me351uK7Cdg_",
        "outputId": "85db68f3-0a97-41bf-928c-5a774bba911d"
      },
      "execution_count": 6,
      "outputs": [
        {
          "output_type": "execute_result",
          "data": {
            "text/plain": [
              "array([ 2,  8, 18])"
            ]
          },
          "metadata": {},
          "execution_count": 6
        }
      ]
    },
    {
      "cell_type": "markdown",
      "source": [
        "outer product"
      ],
      "metadata": {
        "id": "QIAxns4FCC5Y"
      }
    },
    {
      "cell_type": "code",
      "source": [
        "a = np.array([1,2,3])\n",
        "b = np.array([4,5,6,7])\n",
        "np.einsum('i,j->ij', a, b)"
      ],
      "metadata": {
        "colab": {
          "base_uri": "https://localhost:8080/"
        },
        "id": "iJ966bagCkNZ",
        "outputId": "66318faa-05b0-43ca-b6ed-5862cbc96994"
      },
      "execution_count": 7,
      "outputs": [
        {
          "output_type": "execute_result",
          "data": {
            "text/plain": [
              "array([[ 4,  5,  6,  7],\n",
              "       [ 8, 10, 12, 14],\n",
              "       [12, 15, 18, 21]])"
            ]
          },
          "metadata": {},
          "execution_count": 7
        }
      ]
    },
    {
      "cell_type": "markdown",
      "source": [
        "scalar dot product"
      ],
      "metadata": {
        "id": "EcTvAN16CFQr"
      }
    },
    {
      "cell_type": "code",
      "source": [
        "\n",
        "a=np.array([1])\n",
        "b=[[1,2,3],[1,2,3]]\n",
        "np.einsum(\"i,ji->j\", a, b)"
      ],
      "metadata": {
        "colab": {
          "base_uri": "https://localhost:8080/"
        },
        "id": "zvDhTXo6C4Go",
        "outputId": "6b1d90c3-7504-49cc-f379-69d2edee607c"
      },
      "execution_count": 9,
      "outputs": [
        {
          "output_type": "execute_result",
          "data": {
            "text/plain": [
              "array([6, 6])"
            ]
          },
          "metadata": {},
          "execution_count": 9
        }
      ]
    },
    {
      "cell_type": "markdown",
      "source": [
        "hadamard product"
      ],
      "metadata": {
        "id": "DWQJB8-4CHB8"
      }
    },
    {
      "cell_type": "code",
      "source": [
        "mat1 = [[1,2,3],[4,5,6]]\n",
        "mat2 = [[1,2,3],[4,5,6]]\n",
        "np.einsum(\"ij,ij->ij\",mat1,mat2)"
      ],
      "metadata": {
        "colab": {
          "base_uri": "https://localhost:8080/"
        },
        "id": "vofQo1uEDDwr",
        "outputId": "4aedbc2a-6ea5-4052-d7c1-b1ce8fb844b8"
      },
      "execution_count": 10,
      "outputs": [
        {
          "output_type": "execute_result",
          "data": {
            "text/plain": [
              "array([[ 1,  4,  9],\n",
              "       [16, 25, 36]])"
            ]
          },
          "metadata": {},
          "execution_count": 10
        }
      ]
    },
    {
      "cell_type": "markdown",
      "source": [
        "batch matrix multiplication"
      ],
      "metadata": {
        "id": "hxEmtaXvCJBM"
      }
    },
    {
      "cell_type": "code",
      "source": [
        "a = np.random.rand(3,2,5)\n",
        "b = np.random.rand(3,5,3)\n",
        "print(a)\n",
        "print(b)\n",
        "np.einsum('ijk,ikl->ijl', a, b)"
      ],
      "metadata": {
        "colab": {
          "base_uri": "https://localhost:8080/"
        },
        "id": "ytwHmPxkDIV9",
        "outputId": "7aa33344-149c-470f-bbb4-219eb66933e6"
      },
      "execution_count": 11,
      "outputs": [
        {
          "output_type": "stream",
          "name": "stdout",
          "text": [
            "[[[0.02363698 0.78474126 0.48448156 0.77948616 0.00503479]\n",
            "  [0.59257715 0.65172718 0.61540574 0.37461867 0.99148532]]\n",
            "\n",
            " [[0.29557621 0.84687723 0.76557815 0.21480959 0.89426274]\n",
            "  [0.12291257 0.11604237 0.86010112 0.08415184 0.39132709]]\n",
            "\n",
            " [[0.04317219 0.26670241 0.68399287 0.00426782 0.93406356]\n",
            "  [0.34218962 0.81114794 0.595427   0.86873046 0.57108231]]]\n",
            "[[[0.09217265 0.67572691 0.51839897]\n",
            "  [0.59081522 0.45806263 0.01400993]\n",
            "  [0.10005867 0.07219301 0.75584302]\n",
            "  [0.8739995  0.27299913 0.46897194]\n",
            "  [0.57244481 0.39026294 0.15495932]]\n",
            "\n",
            " [[0.84857597 0.0632298  0.31300607]\n",
            "  [0.00136672 0.80180091 0.11581563]\n",
            "  [0.57091111 0.4652273  0.29699919]\n",
            "  [0.05265029 0.57620774 0.50946241]\n",
            "  [0.96129469 0.38122161 0.25114544]]\n",
            "\n",
            " [[0.79595128 0.24772567 0.04308973]\n",
            "  [0.98434684 0.8654122  0.963551  ]\n",
            "  [0.56514583 0.72207578 0.47817573]\n",
            "  [0.29345239 0.60052015 0.47883423]\n",
            "  [0.83848875 0.6794922  0.89262334]]]\n"
          ]
        },
        {
          "output_type": "execute_result",
          "data": {
            "text/plain": [
              "array([[[1.198445  , 0.62517291, 0.75577688],\n",
              "        [1.39623359, 1.23259074, 1.1107977 ]],\n",
              "\n",
              "       [[1.56001319, 1.51857124, 0.75200228],\n",
              "        [0.97611181, 0.69862842, 0.44851345]],\n",
              "\n",
              "       [[1.46790055, 1.37264889, 1.42172096],\n",
              "        [2.14109739, 2.12642601, 2.00678529]]])"
            ]
          },
          "metadata": {},
          "execution_count": 11
        }
      ]
    },
    {
      "cell_type": "markdown",
      "source": [
        "tensor reductoin"
      ],
      "metadata": {
        "id": "IB6C6Kh1CK9A"
      }
    },
    {
      "cell_type": "code",
      "source": [
        "a = np.random.rand(2,17,5,7)\n",
        "b = np.random.rand(11,2,4,17,6)\n",
        "np.einsum('pqrs,tpwqm->rstwm', a, b).shape"
      ],
      "metadata": {
        "colab": {
          "base_uri": "https://localhost:8080/"
        },
        "id": "sE9CPLUMDLiS",
        "outputId": "41920dab-d69e-42cb-f595-f495c0c115ec"
      },
      "execution_count": 12,
      "outputs": [
        {
          "output_type": "execute_result",
          "data": {
            "text/plain": [
              "(5, 7, 11, 4, 6)"
            ]
          },
          "metadata": {},
          "execution_count": 12
        }
      ]
    },
    {
      "cell_type": "markdown",
      "source": [
        "transpose"
      ],
      "metadata": {
        "id": "EuegveyVCMlK"
      }
    },
    {
      "cell_type": "code",
      "source": [
        "print(np.einsum(\"ij -> ji\", x))"
      ],
      "metadata": {
        "colab": {
          "base_uri": "https://localhost:8080/"
        },
        "id": "ADHb8m-mDRsE",
        "outputId": "95846d4b-c39a-43ba-cf78-b0503700a9ad"
      },
      "execution_count": 13,
      "outputs": [
        {
          "output_type": "stream",
          "name": "stdout",
          "text": [
            "[[0.88451896 0.21165959]\n",
            " [0.23431214 0.9029372 ]\n",
            " [0.0164485  0.03248161]]\n"
          ]
        }
      ]
    },
    {
      "cell_type": "markdown",
      "source": [
        "bilinear transformation"
      ],
      "metadata": {
        "id": "xxZGBj8FCOVJ"
      }
    },
    {
      "cell_type": "code",
      "source": [
        "a = np.random.rand(2,3)\n",
        "b = np.random.rand(5,3,7)\n",
        "c = np.random.rand(2,7)\n",
        "np.einsum('ik,jkl,il->ij', a, b, c)"
      ],
      "metadata": {
        "colab": {
          "base_uri": "https://localhost:8080/"
        },
        "id": "obxz0Z6BDVsk",
        "outputId": "519c3273-57ae-4086-f64a-102f17d6fdf7"
      },
      "execution_count": 14,
      "outputs": [
        {
          "output_type": "execute_result",
          "data": {
            "text/plain": [
              "array([[0.35742739, 0.28114535, 0.35212185, 0.35913054, 0.38305359],\n",
              "       [3.32357751, 3.30512635, 3.1321536 , 2.92282341, 2.93239034]])"
            ]
          },
          "metadata": {},
          "execution_count": 14
        }
      ]
    },
    {
      "cell_type": "markdown",
      "source": [
        "attention"
      ],
      "metadata": {
        "id": "v9jW5PUWCRnE"
      }
    },
    {
      "cell_type": "code",
      "source": [
        "def random_tensors(shape, num=1, requires_grad=False):\n",
        "  tensors = [np.random.randn(*shape) for i in range(0, num)]\n",
        "  return tensors[0] if num == 1 else tensors\n",
        "\n",
        "\n",
        "bM, br, w = random_tensors([7], num=3)\n",
        "WY, Wh, Wr, Wt = random_tensors([7, 7], num=4)\n",
        "\n",
        "print(bM, br, w)\n",
        "\n",
        "print(WY, Wh, Wr, Wt)\n",
        "\n",
        "def attention(Y, ht, rt1):\n",
        "\n",
        "  tmp = np.einsum('ik,kl->il', ht, Wh) + np.einsum('ik,kl->il', rt1, Wr) \n",
        "  Mt = np.tanh(np.matmul(Y, WY) + np.expand_dims(tmp, 1) + bM)\n",
        "  at = np.exp(np.matmul(Mt, w)) / np.sum(np.exp(np.matmul(Mt, w)), axis=1, keepdims=True)\n",
        "  rt = np.matmul(at[..., None, :], Y).squeeze() + np.tanh(np.matmul(rt1, Wt) + br)\n",
        " \n",
        "  return rt, at\n",
        "\n",
        "Y = np.array(random_tensors([3, 5, 7]))\n",
        "\n",
        "ht, rt1 = random_tensors([3, 7], num=2)\n",
        "\n",
        "print(ht)\n",
        "\n",
        "print(rt1)\n",
        "\n",
        "rt, at = attention(Y, ht, rt1)\n",
        "at"
      ],
      "metadata": {
        "colab": {
          "base_uri": "https://localhost:8080/"
        },
        "id": "f8ISv_LFDhRJ",
        "outputId": "5104a5f9-7d16-490d-df8b-14db97dc53be"
      },
      "execution_count": 15,
      "outputs": [
        {
          "output_type": "stream",
          "name": "stdout",
          "text": [
            "[ 0.54525604 -0.27784639 -0.11273398  0.82310793  1.19382036 -0.71378252\n",
            "  1.24514436] [ 0.35559636  0.24041619 -0.14980234 -0.08475141 -0.65788139 -0.96367643\n",
            "  1.72564576] [-0.12715336 -0.25769324  1.1194503   0.30696943 -0.08127405 -0.39876806\n",
            "  0.93069977]\n",
            "[[ 0.75648276 -0.63839277 -1.55395     0.52498994 -0.74532338  0.12855529\n",
            "  -1.52860707]\n",
            " [ 1.09736599  0.18261152  0.10471982  0.78906012  0.41359494  0.85339721\n",
            "   2.28340045]\n",
            " [ 0.81048805 -0.68469533  0.52293137  1.8374563   0.65609048 -1.32393416\n",
            "  -0.7652057 ]\n",
            " [ 0.28456047  0.19607011  0.7987256   0.76135369  1.19902144 -0.20751731\n",
            "  -0.62130552]\n",
            " [-1.31615452  0.03666693 -0.95449482  1.06569776 -0.89244692 -3.48232827\n",
            "  -0.13772567]\n",
            " [ 0.67809262 -0.61307767 -1.96916992 -0.50282375  0.46376154  0.96089962\n",
            "   0.57224004]\n",
            " [-0.25238106  2.05442012  0.73814155 -1.33113198 -1.44145177  0.33394468\n",
            "   0.65387864]] [[ 1.45546185e+00  8.29269310e-01 -1.59547700e-01  5.67207978e-01\n",
            "  -9.36396394e-01 -1.26608770e+00  6.02600918e-01]\n",
            " [ 5.83607449e-01  1.65402338e-01 -8.47441690e-01 -1.21421967e+00\n",
            "   6.61020344e-01 -1.28715305e+00  2.59453553e+00]\n",
            " [-6.47031487e-01 -6.55851918e-01  2.37273222e+00  1.21550693e+00\n",
            "   2.66492313e-01  1.02436478e+00 -1.61660857e-02]\n",
            " [ 4.53171391e-01  2.81369565e-02 -2.66906298e-01 -1.22479476e+00\n",
            "  -9.46915497e-01  3.55947627e+00 -8.48756040e-01]\n",
            " [ 8.40334293e-01  1.09217808e+00 -1.33412250e+00  5.94055228e-01\n",
            "   3.27766955e-01 -3.18823007e-01 -2.05017241e+00]\n",
            " [-1.52936780e+00 -5.36608621e-01  6.43741958e-01 -4.16902199e-01\n",
            "   1.69469192e+00 -1.44717999e+00  5.63975065e-01]\n",
            " [ 6.05980756e-01 -4.11222434e-01 -3.67638438e-01 -2.26833449e-03\n",
            "   2.28936046e+00 -3.77086484e-01 -4.20999895e-01]] [[ 1.01771814 -0.80354047 -0.2871212  -1.60051923  3.13312236 -1.08577077\n",
            "   0.07776357]\n",
            " [-0.34216887 -0.64691392 -0.02678145 -0.62252131  2.7403252  -0.63559462\n",
            "   0.82002115]\n",
            " [-1.27411994  0.12875699  0.51374672  1.8223417   0.81630197 -0.69028947\n",
            "   0.92077431]\n",
            " [ 0.33041326 -1.61393491  0.74151965 -0.48429755  0.28305696 -1.61062899\n",
            "  -1.79483386]\n",
            " [-0.43700343 -0.21355139 -0.56914161 -1.78023354  0.5904404   1.28201516\n",
            "  -0.0734472 ]\n",
            " [-0.36015688  0.84117964 -0.50043337 -0.00387485 -0.72274341  0.56911086\n",
            "   0.65641644]\n",
            " [ 1.421559   -0.89670501  1.20207368 -1.02719718 -0.01627438  0.09022986\n",
            "  -1.35185354]] [[-2.26172314 -1.5414365  -0.7613883   1.68586802  0.33048293 -1.55486683\n",
            "  -0.72072698]\n",
            " [ 0.21906847  0.46252346 -1.59502442  0.19118254 -0.2505682  -0.87570958\n",
            "   1.98783321]\n",
            " [-1.51048918 -1.27171283 -1.05195591  1.71941976 -0.35052432  0.1352463\n",
            "   0.48577095]\n",
            " [-0.48003697  0.89766171 -0.24086327  1.57926487 -0.9181932   0.48905284\n",
            "   0.41995503]\n",
            " [-2.38556396  1.13357141 -2.27080329 -0.13058704  0.49987569 -0.68414713\n",
            "  -0.05713745]\n",
            " [ 0.39739479  2.00135827  1.26084516 -1.07055715 -0.11346849 -0.02181438\n",
            "  -0.73048047]\n",
            " [ 0.97905485  1.12019786  0.05730142  0.21451636 -1.03708212 -1.81066666\n",
            "  -0.99343363]]\n",
            "[[ 0.51299241 -0.0623104   0.17691635  1.20671088  0.28728415  0.26407061\n",
            "   0.04257892]\n",
            " [ 0.38659619  0.50149184  0.13455353  1.59836002 -0.37717089 -0.00863498\n",
            "   0.64096433]\n",
            " [-0.39923681  1.02448219 -0.50974446 -0.13795658  0.53983341  0.47884673\n",
            "  -1.28628828]]\n",
            "[[-1.44877972 -1.17022864 -1.48090211 -1.94424569  0.19405415  1.91716685\n",
            "   1.02658725]\n",
            " [ 0.61622505 -1.23187965  0.39771173 -0.96869395 -2.33373153 -0.49779728\n",
            "   1.44466068]\n",
            " [-0.91512269 -0.0922545   0.07267442 -0.13585219  1.15118368 -0.80807368\n",
            "  -0.83974992]]\n"
          ]
        },
        {
          "output_type": "execute_result",
          "data": {
            "text/plain": [
              "array([[0.01997156, 0.01109191, 0.90755958, 0.02108139, 0.04029556],\n",
              "       [0.0827044 , 0.59950065, 0.15848615, 0.12086911, 0.0384397 ],\n",
              "       [0.04828252, 0.23702554, 0.31273627, 0.22862465, 0.17333102]])"
            ]
          },
          "metadata": {},
          "execution_count": 15
        }
      ]
    },
    {
      "cell_type": "markdown",
      "source": [
        "tree qn"
      ],
      "metadata": {
        "id": "P54uGMrPCS8F"
      }
    },
    {
      "cell_type": "code",
      "source": [
        "b = random_tensors([5, 3], requires_grad=True)\n",
        "W = random_tensors([5, 3, 3], requires_grad=True)\n",
        "\n",
        "print(b)\n",
        "print(W)\n",
        "\n",
        "def transition(zl):\n",
        "  return zl[:, None, :] + np.tanh(np.einsum(\"bk,aki->bai\", zl, W) + b)\n",
        "\n",
        "zl = random_tensors([2, 3])\n",
        "zl\n",
        "transition(zl)\n",
        "zl"
      ],
      "metadata": {
        "colab": {
          "base_uri": "https://localhost:8080/"
        },
        "id": "VlcFQoLkDt96",
        "outputId": "40361417-3087-42cc-9da9-6e309d50d144"
      },
      "execution_count": 16,
      "outputs": [
        {
          "output_type": "stream",
          "name": "stdout",
          "text": [
            "[[ 0.50821123  0.90014936 -0.60385227]\n",
            " [ 0.69215488 -1.78768829  0.02466198]\n",
            " [-1.50874976 -1.85839351  0.11481778]\n",
            " [ 0.23102821 -0.8458811  -0.74272413]\n",
            " [ 0.1285724  -0.7369467  -2.34553577]]\n",
            "[[[-0.37412187 -0.06134974  1.00581008]\n",
            "  [ 1.16790923  0.51516494 -0.95070361]\n",
            "  [ 0.62769131 -0.01614966 -0.66740877]]\n",
            "\n",
            " [[ 0.84755028  0.7800709  -0.29999518]\n",
            "  [ 0.38099461  0.53642316  0.16811752]\n",
            "  [-0.72684879 -0.25713111  0.6501279 ]]\n",
            "\n",
            " [[-0.02188734 -1.68761097 -0.65145989]\n",
            "  [ 1.5826556  -1.40498171  2.03272291]\n",
            "  [ 0.47953743 -0.69015786 -0.94683652]]\n",
            "\n",
            " [[ 0.15653062  0.10790695 -1.11619871]\n",
            "  [ 0.40417991 -0.75444407 -0.16326943]\n",
            "  [-0.84275165  0.36765215  0.16296428]]\n",
            "\n",
            " [[ 0.05230584 -1.11286927 -1.4455519 ]\n",
            "  [-0.48383917 -1.53105119 -0.5308803 ]\n",
            "  [-0.61200337 -1.00404899  0.02235195]]]\n"
          ]
        },
        {
          "output_type": "execute_result",
          "data": {
            "text/plain": [
              "array([[ 2.85093752,  1.24563175,  0.40124155],\n",
              "       [-1.52450013,  0.358082  , -0.16257073]])"
            ]
          },
          "metadata": {},
          "execution_count": 16
        }
      ]
    }
  ]
}