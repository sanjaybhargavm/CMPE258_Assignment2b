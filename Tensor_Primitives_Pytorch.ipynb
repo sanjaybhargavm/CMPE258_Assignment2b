{
  "nbformat": 4,
  "nbformat_minor": 0,
  "metadata": {
    "colab": {
      "provenance": []
    },
    "kernelspec": {
      "name": "python3",
      "display_name": "Python 3"
    },
    "language_info": {
      "name": "python"
    }
  },
  "cells": [
    {
      "cell_type": "markdown",
      "source": [
        "Tensorflow primitives deonstration using Pytorch"
      ],
      "metadata": {
        "id": "Pk7tLW75JmKR"
      }
    },
    {
      "cell_type": "code",
      "source": [
        "import torch\n",
        "import torch.nn as nn"
      ],
      "metadata": {
        "id": "wqPOHMbiJlir"
      },
      "execution_count": 15,
      "outputs": []
    },
    {
      "cell_type": "markdown",
      "source": [
        "scalar vector multiplication"
      ],
      "metadata": {
        "id": "ZG1_AcqBJykL"
      }
    },
    {
      "cell_type": "code",
      "execution_count": 3,
      "metadata": {
        "colab": {
          "base_uri": "https://localhost:8080/"
        },
        "id": "IcgxNX0DJZh-",
        "outputId": "da9f02f4-6245-4ec4-face-c5baead9db98"
      },
      "outputs": [
        {
          "output_type": "stream",
          "name": "stdout",
          "text": [
            "tensor([2, 4, 6])\n"
          ]
        }
      ],
      "source": [
        "scalar = 2\n",
        "vector = torch.tensor([1, 2, 3])\n",
        "\n",
        "result = scalar * vector\n",
        "print(result)\n"
      ]
    },
    {
      "cell_type": "markdown",
      "source": [
        "vector vector multiplications"
      ],
      "metadata": {
        "id": "zcghHr4nJ3bN"
      }
    },
    {
      "cell_type": "code",
      "source": [
        "a = torch.rand(3, 5)\n",
        "b = torch.rand(5, 2)\n",
        "\n",
        "result = torch.einsum('ij, jk -> ik', [a, b])\n",
        "print(result)"
      ],
      "metadata": {
        "colab": {
          "base_uri": "https://localhost:8080/"
        },
        "id": "fNAj-bYnJ7TI",
        "outputId": "f6201046-0b55-4820-a582-c1e255580666"
      },
      "execution_count": 35,
      "outputs": [
        {
          "output_type": "stream",
          "name": "stdout",
          "text": [
            "tensor([[1.0687, 0.8213],\n",
            "        [1.3245, 1.1338],\n",
            "        [1.0876, 0.5421]])\n"
          ]
        }
      ]
    },
    {
      "cell_type": "markdown",
      "source": [
        "outer product"
      ],
      "metadata": {
        "id": "6lYEsKJTKCgL"
      }
    },
    {
      "cell_type": "code",
      "source": [
        "a = torch.arange(3)\n",
        "b = torch.arange(3, 7)  \n",
        "result = torch.einsum('i,j -> ij', [a, b])\n",
        "\n",
        "print(result)"
      ],
      "metadata": {
        "colab": {
          "base_uri": "https://localhost:8080/"
        },
        "id": "4zqABlVsKErt",
        "outputId": "1719aab0-e847-4a47-f108-4c16a7b8b620"
      },
      "execution_count": 36,
      "outputs": [
        {
          "output_type": "stream",
          "name": "stdout",
          "text": [
            "tensor([[ 0,  0,  0,  0],\n",
            "        [ 3,  4,  5,  6],\n",
            "        [ 6,  8, 10, 12]])\n"
          ]
        }
      ]
    },
    {
      "cell_type": "markdown",
      "source": [
        "scalar dot product"
      ],
      "metadata": {
        "id": "N0yK1Dh7KJsm"
      }
    },
    {
      "cell_type": "code",
      "source": [
        "a = torch.arange(6).reshape(3, 2)\n",
        "b = torch.arange(4).reshape(2, 2)\n",
        "result = torch.einsum('ij, jk ->', [a, b])\n",
        "\n",
        "print(result)"
      ],
      "metadata": {
        "colab": {
          "base_uri": "https://localhost:8080/"
        },
        "id": "zjDH8XE0KNa4",
        "outputId": "8ba088c1-37be-487a-d022-1af491e38845"
      },
      "execution_count": 37,
      "outputs": [
        {
          "output_type": "stream",
          "name": "stdout",
          "text": [
            "tensor(51)\n"
          ]
        }
      ]
    },
    {
      "cell_type": "markdown",
      "source": [
        "hadamard product"
      ],
      "metadata": {
        "id": "BPw716CDK-9N"
      }
    },
    {
      "cell_type": "code",
      "source": [
        "a = torch.arange(6).reshape(2, 3)\n",
        "b = torch.arange(6,12).reshape(2, 3)\n",
        "result=torch.einsum('ij,ij->ij', [a, b])\n",
        "print(result)"
      ],
      "metadata": {
        "colab": {
          "base_uri": "https://localhost:8080/"
        },
        "id": "qvS-6qqZLBiS",
        "outputId": "e633e9a1-211a-4275-ad19-4d048a1c08a1"
      },
      "execution_count": 38,
      "outputs": [
        {
          "output_type": "stream",
          "name": "stdout",
          "text": [
            "tensor([[ 0,  7, 16],\n",
            "        [27, 40, 55]])\n"
          ]
        }
      ]
    },
    {
      "cell_type": "markdown",
      "source": [
        "batch matrix multiplication"
      ],
      "metadata": {
        "id": "G2h-P7tYLHPR"
      }
    },
    {
      "cell_type": "code",
      "source": [
        "a = torch.randn(3,2,5)\n",
        "b = torch.randn(3,5,3)\n",
        "\n",
        "\n",
        "result=torch.einsum('ijk,ikl->ijl', [a, b])\n",
        "print(result)"
      ],
      "metadata": {
        "colab": {
          "base_uri": "https://localhost:8080/"
        },
        "id": "7LZtvdnkLGlc",
        "outputId": "3c801d63-e2f9-4676-8a34-d6e2e4a276a1"
      },
      "execution_count": 32,
      "outputs": [
        {
          "output_type": "stream",
          "name": "stdout",
          "text": [
            "tensor([[[-1.2533,  2.9754,  1.6208],\n",
            "         [-0.6736, -0.7152,  1.3979]],\n",
            "\n",
            "        [[ 0.3295,  0.0615, -1.1832],\n",
            "         [-0.4494, -0.2831,  1.0707]],\n",
            "\n",
            "        [[ 4.2888,  0.1133, -3.2741],\n",
            "         [ 2.9413,  0.0150, -0.4242]]])\n"
          ]
        }
      ]
    },
    {
      "cell_type": "markdown",
      "source": [
        "tensor reduction"
      ],
      "metadata": {
        "id": "MQJXzHozLXLt"
      }
    },
    {
      "cell_type": "code",
      "source": [
        "a = torch.randn(2, 3, 5, 7)\n",
        "b = torch.randn(4, 1, 3, 11, 5)\n",
        "result = torch.einsum('abcd, efghi ->adefh', [a, b])\n",
        "print(result.shape)\n",
        "print(result)\n"
      ],
      "metadata": {
        "colab": {
          "base_uri": "https://localhost:8080/"
        },
        "id": "2FYYwIP3LZsx",
        "outputId": "e5ef7820-da2a-4258-e173-4a52b37610d6"
      },
      "execution_count": 41,
      "outputs": [
        {
          "output_type": "stream",
          "name": "stdout",
          "text": [
            "torch.Size([2, 7, 4, 1, 11])\n",
            "tensor([[[[[ 6.0274e+00, -1.0688e+01, -1.5282e+01, -1.9496e+01,  2.7850e+01,\n",
            "             2.7285e+01, -1.1368e+01, -5.1229e+00,  1.4111e+01,  2.3682e+01,\n",
            "            -2.5848e+00]],\n",
            "\n",
            "          [[-3.6405e+00,  7.5461e-01, -1.1874e+01,  9.7234e+00,  1.7538e+01,\n",
            "            -1.4558e+01,  2.4650e+01, -2.5525e+00, -2.3424e+01,  8.0706e+00,\n",
            "            -1.8275e+01]],\n",
            "\n",
            "          [[ 1.2167e+01, -3.5243e+01, -1.0339e+00, -2.5644e+00, -1.1607e+01,\n",
            "             2.2875e+01, -1.8194e+01, -1.8708e+01,  3.0346e+01, -1.6445e+01,\n",
            "             1.4835e+01]],\n",
            "\n",
            "          [[ 1.0912e+01,  3.2397e+00,  2.1487e+01, -2.7279e+01,  1.0307e+00,\n",
            "             1.0587e+01, -6.6202e+00, -2.5640e+01, -1.2861e+01,  7.6414e+00,\n",
            "             1.4723e+00]]],\n",
            "\n",
            "\n",
            "         [[[ 3.5920e+00, -6.3696e+00, -9.1071e+00, -1.1618e+01,  1.6597e+01,\n",
            "             1.6260e+01, -6.7745e+00, -3.0529e+00,  8.4093e+00,  1.4113e+01,\n",
            "            -1.5404e+00]],\n",
            "\n",
            "          [[-2.1695e+00,  4.4970e-01, -7.0764e+00,  5.7946e+00,  1.0451e+01,\n",
            "            -8.6758e+00,  1.4690e+01, -1.5211e+00, -1.3959e+01,  4.8096e+00,\n",
            "            -1.0891e+01]],\n",
            "\n",
            "          [[ 7.2507e+00, -2.1003e+01, -6.1615e-01, -1.5282e+00, -6.9173e+00,\n",
            "             1.3632e+01, -1.0842e+01, -1.1149e+01,  1.8084e+01, -9.8001e+00,\n",
            "             8.8407e+00]],\n",
            "\n",
            "          [[ 6.5027e+00,  1.9307e+00,  1.2805e+01, -1.6257e+01,  6.1425e-01,\n",
            "             6.3089e+00, -3.9452e+00, -1.5280e+01, -7.6646e+00,  4.5538e+00,\n",
            "             8.7738e-01]]],\n",
            "\n",
            "\n",
            "         [[[-1.9008e+00,  3.3706e+00,  4.8192e+00,  6.1482e+00, -8.7827e+00,\n",
            "            -8.6046e+00,  3.5849e+00,  1.6155e+00, -4.4500e+00, -7.4681e+00,\n",
            "             8.1512e-01]],\n",
            "\n",
            "          [[ 1.1480e+00, -2.3797e-01,  3.7447e+00, -3.0663e+00, -5.5306e+00,\n",
            "             4.5910e+00, -7.7734e+00,  8.0493e-01,  7.3868e+00, -2.5451e+00,\n",
            "             5.7632e+00]],\n",
            "\n",
            "          [[-3.8369e+00,  1.1114e+01,  3.2605e-01,  8.0868e-01,  3.6604e+00,\n",
            "            -7.2137e+00,  5.7375e+00,  5.8996e+00, -9.5698e+00,  5.1860e+00,\n",
            "            -4.6783e+00]],\n",
            "\n",
            "          [[-3.4411e+00, -1.0217e+00, -6.7760e+00,  8.6026e+00, -3.2504e-01,\n",
            "            -3.3385e+00,  2.0877e+00,  8.0856e+00,  4.0559e+00, -2.4098e+00,\n",
            "            -4.6428e-01]]],\n",
            "\n",
            "\n",
            "         [[[ 8.0619e+00, -1.4296e+01, -2.0440e+01, -2.6077e+01,  3.7251e+01,\n",
            "             3.6495e+01, -1.5205e+01, -6.8520e+00,  1.8874e+01,  3.1675e+01,\n",
            "            -3.4572e+00]],\n",
            "\n",
            "          [[-4.8692e+00,  1.0093e+00, -1.5882e+01,  1.3005e+01,  2.3457e+01,\n",
            "            -1.9472e+01,  3.2970e+01, -3.4140e+00, -3.1330e+01,  1.0795e+01,\n",
            "            -2.4444e+01]],\n",
            "\n",
            "          [[ 1.6274e+01, -4.7139e+01, -1.3829e+00, -3.4299e+00, -1.5525e+01,\n",
            "             3.0596e+01, -2.4335e+01, -2.5022e+01,  4.0589e+01, -2.1996e+01,\n",
            "             1.9842e+01]],\n",
            "\n",
            "          [[ 1.4595e+01,  4.3332e+00,  2.8740e+01, -3.6487e+01,  1.3786e+00,\n",
            "             1.4160e+01, -8.8547e+00, -3.4294e+01, -1.7203e+01,  1.0221e+01,\n",
            "             1.9692e+00]]],\n",
            "\n",
            "\n",
            "         [[[-6.5027e+00,  1.1531e+01,  1.6487e+01,  2.1033e+01, -3.0047e+01,\n",
            "            -2.9437e+01,  1.2264e+01,  5.5268e+00, -1.5224e+01, -2.5549e+01,\n",
            "             2.7886e+00]],\n",
            "\n",
            "          [[ 3.9275e+00, -8.1411e-01,  1.2811e+01, -1.0490e+01, -1.8921e+01,\n",
            "             1.5706e+01, -2.6593e+01,  2.7537e+00,  2.5271e+01, -8.7070e+00,\n",
            "             1.9716e+01]],\n",
            "\n",
            "          [[-1.3126e+01,  3.8022e+01,  1.1154e+00,  2.7666e+00,  1.2523e+01,\n",
            "            -2.4679e+01,  1.9628e+01,  2.0183e+01, -3.2739e+01,  1.7742e+01,\n",
            "            -1.6005e+01]],\n",
            "\n",
            "          [[-1.1772e+01, -3.4952e+00, -2.3181e+01,  2.9430e+01, -1.1120e+00,\n",
            "            -1.1421e+01,  7.1422e+00,  2.7662e+01,  1.3876e+01, -8.2440e+00,\n",
            "            -1.5884e+00]]],\n",
            "\n",
            "\n",
            "         [[[-8.9468e+00,  1.5865e+01,  2.2684e+01,  2.8939e+01, -4.1340e+01,\n",
            "            -4.0501e+01,  1.6874e+01,  7.6041e+00, -2.0946e+01, -3.5152e+01,\n",
            "             3.8367e+00]],\n",
            "\n",
            "          [[ 5.4037e+00, -1.1201e+00,  1.7626e+01, -1.4433e+01, -2.6032e+01,\n",
            "             2.1609e+01, -3.6589e+01,  3.7888e+00,  3.4769e+01, -1.1980e+01,\n",
            "             2.7127e+01]],\n",
            "\n",
            "          [[-1.8060e+01,  5.2313e+01,  1.5347e+00,  3.8064e+00,  1.7229e+01,\n",
            "            -3.3954e+01,  2.7006e+01,  2.7769e+01, -4.5044e+01,  2.4410e+01,\n",
            "            -2.2020e+01]],\n",
            "\n",
            "          [[-1.6197e+01, -4.8089e+00, -3.1894e+01,  4.0492e+01, -1.5299e+00,\n",
            "            -1.5714e+01,  9.8266e+00,  3.8058e+01,  1.9091e+01, -1.1343e+01,\n",
            "            -2.1853e+00]]],\n",
            "\n",
            "\n",
            "         [[[ 7.5525e+00, -1.3393e+01, -1.9149e+01, -2.4429e+01,  3.4897e+01,\n",
            "             3.4189e+01, -1.4244e+01, -6.4191e+00,  1.7681e+01,  2.9674e+01,\n",
            "            -3.2388e+00]],\n",
            "\n",
            "          [[-4.5616e+00,  9.4555e-01, -1.4879e+01,  1.2184e+01,  2.1975e+01,\n",
            "            -1.8242e+01,  3.0887e+01, -3.1983e+00, -2.9351e+01,  1.0113e+01,\n",
            "            -2.2899e+01]],\n",
            "\n",
            "          [[ 1.5245e+01, -4.4161e+01, -1.2955e+00, -3.2132e+00, -1.4544e+01,\n",
            "             2.8663e+01, -2.2797e+01, -2.3441e+01,  3.8024e+01, -2.0606e+01,\n",
            "             1.8589e+01]],\n",
            "\n",
            "          [[ 1.3673e+01,  4.0595e+00,  2.6924e+01, -3.4181e+01,  1.2915e+00,\n",
            "             1.3265e+01, -8.2952e+00, -3.2127e+01, -1.6116e+01,  9.5749e+00,\n",
            "             1.8448e+00]]]],\n",
            "\n",
            "\n",
            "\n",
            "        [[[[ 2.8188e+00, -4.9985e+00, -7.1467e+00, -9.1175e+00,  1.3024e+01,\n",
            "             1.2760e+01, -5.3163e+00, -2.3957e+00,  6.5991e+00,  1.1075e+01,\n",
            "            -1.2088e+00]],\n",
            "\n",
            "          [[-1.7025e+00,  3.5290e-01, -5.5532e+00,  4.5472e+00,  8.2017e+00,\n",
            "            -6.8082e+00,  1.1528e+01, -1.1937e+00, -1.0954e+01,  3.7743e+00,\n",
            "            -8.5466e+00]],\n",
            "\n",
            "          [[ 5.6900e+00, -1.6482e+01, -4.8352e-01, -1.1992e+00, -5.4283e+00,\n",
            "             1.0698e+01, -8.5084e+00, -8.7488e+00,  1.4192e+01, -7.6906e+00,\n",
            "             6.9377e+00]],\n",
            "\n",
            "          [[ 5.1030e+00,  1.5151e+00,  1.0049e+01, -1.2757e+01,  4.8203e-01,\n",
            "             4.9509e+00, -3.0960e+00, -1.1991e+01, -6.0148e+00,  3.5736e+00,\n",
            "             6.8851e-01]]],\n",
            "\n",
            "\n",
            "         [[[ 2.3816e+00, -4.2231e+00, -6.0381e+00, -7.7033e+00,  1.1004e+01,\n",
            "             1.0781e+01, -4.4916e+00, -2.0241e+00,  5.5755e+00,  9.3570e+00,\n",
            "            -1.0213e+00]],\n",
            "\n",
            "          [[-1.4384e+00,  2.9816e-01, -4.6918e+00,  3.8419e+00,  6.9295e+00,\n",
            "            -5.7522e+00,  9.7395e+00, -1.0085e+00, -9.2552e+00,  3.1888e+00,\n",
            "            -7.2209e+00]],\n",
            "\n",
            "          [[ 4.8074e+00, -1.3925e+01, -4.0852e-01, -1.0132e+00, -4.5863e+00,\n",
            "             9.0382e+00, -7.1887e+00, -7.3918e+00,  1.1990e+01, -6.4977e+00,\n",
            "             5.8615e+00]],\n",
            "\n",
            "          [[ 4.3114e+00,  1.2801e+00,  8.4899e+00, -1.0778e+01,  4.0726e-01,\n",
            "             4.1829e+00, -2.6157e+00, -1.0131e+01, -5.0818e+00,  3.0193e+00,\n",
            "             5.8172e-01]]],\n",
            "\n",
            "\n",
            "         [[[-9.9626e-01,  1.7666e+00,  2.5259e+00,  3.2225e+00, -4.6033e+00,\n",
            "            -4.5099e+00,  1.8790e+00,  8.4674e-01, -2.3324e+00, -3.9143e+00,\n",
            "             4.2723e-01]],\n",
            "\n",
            "          [[ 6.0172e-01, -1.2473e-01,  1.9627e+00, -1.6072e+00, -2.8988e+00,\n",
            "             2.4063e+00, -4.0743e+00,  4.2189e-01,  3.8717e+00, -1.3340e+00,\n",
            "             3.0207e+00]],\n",
            "\n",
            "          [[-2.0110e+00,  5.8253e+00,  1.7089e-01,  4.2385e-01,  1.9186e+00,\n",
            "            -3.7809e+00,  3.0072e+00,  3.0921e+00, -5.0158e+00,  2.7181e+00,\n",
            "            -2.4520e+00]],\n",
            "\n",
            "          [[-1.8036e+00, -5.3549e-01, -3.5515e+00,  4.5089e+00, -1.7037e-01,\n",
            "            -1.7498e+00,  1.0942e+00,  4.2379e+00,  2.1258e+00, -1.2630e+00,\n",
            "            -2.4335e-01]]],\n",
            "\n",
            "\n",
            "         [[[ 3.6280e+00, -6.4335e+00, -9.1984e+00, -1.1735e+01,  1.6764e+01,\n",
            "             1.6424e+01, -6.8425e+00, -3.0835e+00,  8.4937e+00,  1.4254e+01,\n",
            "            -1.5558e+00]],\n",
            "\n",
            "          [[-2.1913e+00,  4.5421e-01, -7.1474e+00,  5.8527e+00,  1.0556e+01,\n",
            "            -8.7628e+00,  1.4837e+01, -1.5364e+00, -1.4099e+01,  4.8578e+00,\n",
            "            -1.1000e+01]],\n",
            "\n",
            "          [[ 7.3235e+00, -2.1214e+01, -6.2233e-01, -1.5435e+00, -6.9867e+00,\n",
            "             1.3769e+01, -1.0951e+01, -1.1261e+01,  1.8266e+01, -9.8985e+00,\n",
            "             8.9294e+00]],\n",
            "\n",
            "          [[ 6.5680e+00,  1.9501e+00,  1.2933e+01, -1.6420e+01,  6.2041e-01,\n",
            "             6.3722e+00, -3.9848e+00, -1.5433e+01, -7.7415e+00,  4.5995e+00,\n",
            "             8.8618e-01]]],\n",
            "\n",
            "\n",
            "         [[[-6.7092e+00,  1.1897e+01,  1.7010e+01,  2.1701e+01, -3.1001e+01,\n",
            "            -3.0372e+01,  1.2654e+01,  5.7023e+00, -1.5707e+01, -2.6360e+01,\n",
            "             2.8771e+00]],\n",
            "\n",
            "          [[ 4.0522e+00, -8.3997e-01,  1.3218e+01, -1.0823e+01, -1.9522e+01,\n",
            "             1.6205e+01, -2.7438e+01,  2.8412e+00,  2.6073e+01, -8.9835e+00,\n",
            "             2.0342e+01]],\n",
            "\n",
            "          [[-1.3543e+01,  3.9230e+01,  1.1509e+00,  2.8544e+00,  1.2920e+01,\n",
            "            -2.5462e+01,  2.0252e+01,  2.0824e+01, -3.3779e+01,  1.8305e+01,\n",
            "            -1.6513e+01]],\n",
            "\n",
            "          [[-1.2146e+01, -3.6062e+00, -2.3918e+01,  3.0365e+01, -1.1473e+00,\n",
            "            -1.1784e+01,  7.3690e+00,  2.8540e+01,  1.4316e+01, -8.5057e+00,\n",
            "            -1.6388e+00]]],\n",
            "\n",
            "\n",
            "         [[[-9.8435e-01,  1.7455e+00,  2.4957e+00,  3.1839e+00, -4.5483e+00,\n",
            "            -4.4560e+00,  1.8565e+00,  8.3662e-01, -2.3045e+00, -3.8675e+00,\n",
            "             4.2212e-01]],\n",
            "\n",
            "          [[ 5.9453e-01, -1.2324e-01,  1.9392e+00, -1.5879e+00, -2.8641e+00,\n",
            "             2.3775e+00, -4.0255e+00,  4.1685e-01,  3.8254e+00, -1.3180e+00,\n",
            "             2.9845e+00]],\n",
            "\n",
            "          [[-1.9870e+00,  5.7556e+00,  1.6885e-01,  4.1879e-01,  1.8956e+00,\n",
            "            -3.7357e+00,  2.9712e+00,  3.0552e+00, -4.9558e+00,  2.6856e+00,\n",
            "            -2.4227e+00]],\n",
            "\n",
            "          [[-1.7820e+00, -5.2908e-01, -3.5091e+00,  4.4550e+00, -1.6833e-01,\n",
            "            -1.7289e+00,  1.0811e+00,  4.1873e+00,  2.1004e+00, -1.2479e+00,\n",
            "            -2.4044e-01]]],\n",
            "\n",
            "\n",
            "         [[[-5.7718e-02,  1.0235e-01,  1.4634e-01,  1.8669e-01, -2.6669e-01,\n",
            "            -2.6128e-01,  1.0886e-01,  4.9056e-02, -1.3513e-01, -2.2677e-01,\n",
            "             2.4751e-02]],\n",
            "\n",
            "          [[ 3.4861e-02, -7.2261e-03,  1.1371e-01, -9.3110e-02, -1.6794e-01,\n",
            "             1.3941e-01, -2.3604e-01,  2.4442e-02,  2.2430e-01, -7.7283e-02,\n",
            "             1.7500e-01]],\n",
            "\n",
            "          [[-1.1651e-01,  3.3749e-01,  9.9006e-03,  2.4556e-02,  1.1115e-01,\n",
            "            -2.1905e-01,  1.7422e-01,  1.7914e-01, -2.9059e-01,  1.5747e-01,\n",
            "            -1.4206e-01]],\n",
            "\n",
            "          [[-1.0449e-01, -3.1023e-02, -2.0576e-01,  2.6122e-01, -9.8701e-03,\n",
            "            -1.0138e-01,  6.3394e-02,  2.4552e-01,  1.2316e-01, -7.3173e-02,\n",
            "            -1.4098e-02]]]]])\n"
          ]
        }
      ]
    },
    {
      "cell_type": "markdown",
      "source": [
        "transpose"
      ],
      "metadata": {
        "id": "S_QfebOhLfxk"
      }
    },
    {
      "cell_type": "code",
      "source": [
        "a = torch.arange(6).reshape(2, 3)\n",
        "result=torch.einsum('ij->ji', [a])\n",
        "print(result) "
      ],
      "metadata": {
        "colab": {
          "base_uri": "https://localhost:8080/"
        },
        "id": "fBjEHYrmLeJC",
        "outputId": "08851b20-a30e-4c87-de63-1aa9288f6c83"
      },
      "execution_count": 31,
      "outputs": [
        {
          "output_type": "stream",
          "name": "stdout",
          "text": [
            "tensor([[0, 3],\n",
            "        [1, 4],\n",
            "        [2, 5]])\n"
          ]
        }
      ]
    },
    {
      "cell_type": "markdown",
      "source": [
        "Bilinear transformation"
      ],
      "metadata": {
        "id": "GoOU4zJyLmLe"
      }
    },
    {
      "cell_type": "code",
      "source": [
        "a = torch.randn(2,3)\n",
        "b = torch.randn(5,3,7)\n",
        "c = torch.randn(2,7)\n",
        "output=torch.einsum('ik,jkl,il->ij', [a, b, c])\n",
        "\n",
        "print(output)"
      ],
      "metadata": {
        "colab": {
          "base_uri": "https://localhost:8080/"
        },
        "id": "njcMgMpALoog",
        "outputId": "6a3a2703-f76d-4a31-b291-db9f8a337475"
      },
      "execution_count": 29,
      "outputs": [
        {
          "output_type": "stream",
          "name": "stdout",
          "text": [
            "tensor([[-9.7473, -6.2321,  2.4311, -2.5698, -0.0524],\n",
            "        [ 2.6706, -1.9656, -1.2043,  2.3952,  3.2716]])\n"
          ]
        }
      ]
    },
    {
      "cell_type": "markdown",
      "source": [
        "attention"
      ],
      "metadata": {
        "id": "Cnbc2n1-LwuE"
      }
    },
    {
      "cell_type": "code",
      "source": [
        "def random_tensors(shape, num=1, requires_grad=False):\n",
        "  tensors = [torch.randn(shape, requires_grad=requires_grad) for i in range(0, num)]\n",
        "  return tensors[0] if num == 1 else tensors\n",
        "\n",
        "# Parameters\n",
        "# -- [hidden_dimension]\n",
        "bM, br, w = random_tensors([7], num=3, requires_grad=True)\n",
        "# [hidden_dimension x hidden_dimension]\n",
        "WY, Wh, Wr, Wt = random_tensors([7, 7], num=4, requires_grad=True)\n",
        "\n",
        "def attention(Y, ht, rt1):\n",
        "  # [batch_size x hidden_dimension] \n",
        "  tmp = torch.einsum('ik, kl -> il', [ht, Wh]) + torch.einsum('ik, kl -> il', [rt1, Wr])\n",
        "\n",
        "  Mt = torch.tanh(torch.einsum('ijk, kl -> ijl', [Y, WY]) + tmp.unsqueeze(1).expand_as(Y) + bM)\n",
        "  \n",
        "  # [batch_size x sequence_length]\n",
        "  at = torch.nn.functional.softmax(torch.einsum('ijk, k -> ij', [Mt, w])) \n",
        "  \n",
        "  # [batch_size x hidden_dimension]\n",
        "  rt = torch.einsum('ijk, ij -> ik', [Y, at]) + torch.tanh(torch.einsum('ij, jk -> ik', [rt1, Wt]) + br)\n",
        "  \n",
        "  return rt, at\n",
        "\n",
        "# Inputs - [batch_size x sequence_length x hidden_dimension]\n",
        "Y = torch.randn(3,5,7)\n",
        "# [batch_size x hidden_dimension]\n",
        "ht, rt1 = random_tensors([3, 7], num=2)\n",
        "\n",
        "rt, at = attention(Y, ht, rt1)\n",
        "\n",
        "print(at)"
      ],
      "metadata": {
        "colab": {
          "base_uri": "https://localhost:8080/"
        },
        "id": "Bo4k8lkcLzqo",
        "outputId": "54f9c62f-8616-49f0-b198-790473b7382f"
      },
      "execution_count": 28,
      "outputs": [
        {
          "output_type": "stream",
          "name": "stdout",
          "text": [
            "tensor([[0.0411, 0.1094, 0.0123, 0.7748, 0.0623],\n",
            "        [0.0760, 0.0673, 0.0664, 0.7233, 0.0670],\n",
            "        [0.0048, 0.4568, 0.0429, 0.0151, 0.4804]], grad_fn=<SoftmaxBackward0>)\n"
          ]
        },
        {
          "output_type": "stream",
          "name": "stderr",
          "text": [
            "<ipython-input-28-ef75e35febdf>:18: UserWarning: Implicit dimension choice for softmax has been deprecated. Change the call to include dim=X as an argument.\n",
            "  at = torch.nn.functional.softmax(torch.einsum('ijk, k -> ij', [Mt, w]))\n"
          ]
        }
      ]
    },
    {
      "cell_type": "markdown",
      "source": [
        "tree qn"
      ],
      "metadata": {
        "id": "jlEnk9VFLz05"
      }
    },
    {
      "cell_type": "code",
      "source": [
        "def transition(zl):\n",
        "  # -- [batch_size x num_actions x hidden_dimension]\n",
        "  return zl.unsqueeze(1) + torch.tanh(torch.einsum(\"bk,aki->bai\", [zl, W]) + b)\n",
        "\n",
        "# Sampled dummy inputs\n",
        "# -- [batch_size x hidden_dimension]\n",
        "zl =torch.rand(3,4)\n",
        "b = torch.randn(4, 4)\n",
        "W = torch.randn(4, 4, 4)\n",
        "transition(zl)"
      ],
      "metadata": {
        "colab": {
          "base_uri": "https://localhost:8080/"
        },
        "id": "k9s4pLPuMePv",
        "outputId": "358013cf-c464-4365-b8ff-f76aa4dccf48"
      },
      "execution_count": 23,
      "outputs": [
        {
          "output_type": "execute_result",
          "data": {
            "text/plain": [
              "tensor([[[ 1.0928, -0.2138, -0.1242, -0.3267],\n",
              "         [ 1.0904, -0.1676,  1.4390,  0.9047],\n",
              "         [ 1.0592,  1.3200,  0.4016,  0.5025],\n",
              "         [ 1.0443,  0.3764,  0.9564, -0.1828]],\n",
              "\n",
              "        [[ 1.1388, -0.5354, -0.3156,  0.2913],\n",
              "         [ 1.1432, -0.4621,  1.2699,  0.9428],\n",
              "         [ 1.0894,  1.2044,  0.4178,  0.1974],\n",
              "         [ 1.1239, -0.3746,  0.7737,  0.2189]],\n",
              "\n",
              "        [[ 1.4470, -0.0330, -0.8625, -0.0819],\n",
              "         [ 1.1244,  0.0516,  1.0501,  0.4459],\n",
              "         [ 1.3419,  1.9345, -0.8358, -0.1164],\n",
              "         [ 1.3772,  0.7978,  0.5285, -0.1329]]])"
            ]
          },
          "metadata": {},
          "execution_count": 23
        }
      ]
    }
  ]
}