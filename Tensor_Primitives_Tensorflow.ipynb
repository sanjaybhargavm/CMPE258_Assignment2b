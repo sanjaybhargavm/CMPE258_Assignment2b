{
  "nbformat": 4,
  "nbformat_minor": 0,
  "metadata": {
    "colab": {
      "provenance": []
    },
    "kernelspec": {
      "name": "python3",
      "display_name": "Python 3"
    },
    "language_info": {
      "name": "python"
    }
  },
  "cells": [
    {
      "cell_type": "code",
      "execution_count": 2,
      "metadata": {
        "id": "zrNYvP_WTQKQ"
      },
      "outputs": [],
      "source": [
        "import tensorflow as tf\n",
        "import torch.nn as n\n",
        "import torch.nn.functional as fun\n",
        "from tensorflow.keras.layers import Dense, Softmax"
      ]
    },
    {
      "cell_type": "code",
      "source": [
        "x = tf.random.uniform(shape=(2, 3), minval=-10.0, maxval=10.0)\n",
        "x"
      ],
      "metadata": {
        "colab": {
          "base_uri": "https://localhost:8080/"
        },
        "id": "_b9dLMXcEQkG",
        "outputId": "15512ddd-b54b-468c-bc1c-8c71a6390c07"
      },
      "execution_count": 4,
      "outputs": [
        {
          "output_type": "execute_result",
          "data": {
            "text/plain": [
              "<tf.Tensor: shape=(2, 3), dtype=float32, numpy=\n",
              "array([[-2.1658254,  8.22505  , -3.808651 ],\n",
              "       [ 6.729145 ,  6.849077 ,  6.204609 ]], dtype=float32)>"
            ]
          },
          "metadata": {},
          "execution_count": 4
        }
      ]
    },
    {
      "cell_type": "markdown",
      "source": [
        "scalar vector multiplication"
      ],
      "metadata": {
        "id": "gZMtHI3uE3N9"
      }
    },
    {
      "cell_type": "code",
      "source": [
        "scalar = tf.constant([4])\n",
        "vector = tf.constant([1, 2, 3])\n",
        "\n",
        "print(tf.einsum(\"i,j->j\", scalar, vector))"
      ],
      "metadata": {
        "colab": {
          "base_uri": "https://localhost:8080/"
        },
        "id": "fmWHyFN4FQ8r",
        "outputId": "de15cf6c-6f5d-4f9f-bebc-c056eaab9587"
      },
      "execution_count": 6,
      "outputs": [
        {
          "output_type": "stream",
          "name": "stdout",
          "text": [
            "tf.Tensor([ 4  8 12], shape=(3,), dtype=int32)\n"
          ]
        }
      ]
    },
    {
      "cell_type": "markdown",
      "source": [
        "vector vector multiplications "
      ],
      "metadata": {
        "id": "kvvCqhs1E7cp"
      }
    },
    {
      "cell_type": "code",
      "source": [
        "v = tf.random.uniform(shape=(1, 3), minval=-10.0, maxval=10.0)\n",
        "tf.einsum(\"ik,jk->ij\", x, v)"
      ],
      "metadata": {
        "colab": {
          "base_uri": "https://localhost:8080/"
        },
        "id": "x1CDx937Faxm",
        "outputId": "d246c826-7bea-4a64-fca2-46fbf62a80c8"
      },
      "execution_count": 7,
      "outputs": [
        {
          "output_type": "execute_result",
          "data": {
            "text/plain": [
              "<tf.Tensor: shape=(2, 1), dtype=float32, numpy=\n",
              "array([[-52.543365],\n",
              "       [-21.04249 ]], dtype=float32)>"
            ]
          },
          "metadata": {},
          "execution_count": 7
        }
      ]
    },
    {
      "cell_type": "markdown",
      "source": [
        "outer product"
      ],
      "metadata": {
        "id": "8gsULN3zE9lQ"
      }
    },
    {
      "cell_type": "code",
      "source": [
        "a = tf.constant([1,2,3])\n",
        "b = tf.constant([4,5,6,7])\n",
        "tf.einsum('i,j->ij', a, b)"
      ],
      "metadata": {
        "colab": {
          "base_uri": "https://localhost:8080/"
        },
        "id": "YdS3qAWBFc3f",
        "outputId": "072feaae-0f11-4641-e2db-dd2032bb64b3"
      },
      "execution_count": 8,
      "outputs": [
        {
          "output_type": "execute_result",
          "data": {
            "text/plain": [
              "<tf.Tensor: shape=(3, 4), dtype=int32, numpy=\n",
              "array([[ 4,  5,  6,  7],\n",
              "       [ 8, 10, 12, 14],\n",
              "       [12, 15, 18, 21]], dtype=int32)>"
            ]
          },
          "metadata": {},
          "execution_count": 8
        }
      ]
    },
    {
      "cell_type": "markdown",
      "source": [
        "scalar dot product"
      ],
      "metadata": {
        "id": "fZ7rWhNeE_ZM"
      }
    },
    {
      "cell_type": "code",
      "source": [
        "a = tf.constant([[1, 2], [3, 4]])\n",
        "b = tf.constant([[5, 6], [7, 8]])\n",
        "tf.einsum('ij,ij->', a, b)"
      ],
      "metadata": {
        "colab": {
          "base_uri": "https://localhost:8080/"
        },
        "id": "hFkT81oaFfSC",
        "outputId": "32d808b1-aed6-488d-e830-136bfa485572"
      },
      "execution_count": 12,
      "outputs": [
        {
          "output_type": "execute_result",
          "data": {
            "text/plain": [
              "<tf.Tensor: shape=(), dtype=int32, numpy=70>"
            ]
          },
          "metadata": {},
          "execution_count": 12
        }
      ]
    },
    {
      "cell_type": "markdown",
      "source": [
        "hadamard product"
      ],
      "metadata": {
        "id": "QkXnbPlCFBhs"
      }
    },
    {
      "cell_type": "code",
      "source": [
        "mat1 = tf.constant([[1,2,3],[4,5,6]])\n",
        "mat2 = tf.constant([[1,2,3],[4,5,6]])\n",
        "tf.einsum(\"ij,ij->ij\",mat1,mat2)"
      ],
      "metadata": {
        "colab": {
          "base_uri": "https://localhost:8080/"
        },
        "id": "ZlqKtkPFGNnx",
        "outputId": "75ca9a7b-2732-4570-d71d-78714d52f7e0"
      },
      "execution_count": 13,
      "outputs": [
        {
          "output_type": "execute_result",
          "data": {
            "text/plain": [
              "<tf.Tensor: shape=(2, 3), dtype=int32, numpy=\n",
              "array([[ 1,  4,  9],\n",
              "       [16, 25, 36]], dtype=int32)>"
            ]
          },
          "metadata": {},
          "execution_count": 13
        }
      ]
    },
    {
      "cell_type": "markdown",
      "source": [
        "batch matrix multiplication"
      ],
      "metadata": {
        "id": "hL03-zNOFEnA"
      }
    },
    {
      "cell_type": "code",
      "source": [
        "a = tf.random.uniform(shape=(3,2,5), minval=-10.0, maxval=10.0)\n",
        "b = tf.random.uniform(shape=(3,5,3), minval=-10.0, maxval=10.0)\n",
        "\n",
        "tf.einsum('ijk,ikl->ijl', a, b)"
      ],
      "metadata": {
        "colab": {
          "base_uri": "https://localhost:8080/"
        },
        "id": "jyG1jY9DGP4v",
        "outputId": "9c07e9fb-c6b5-4791-ea6a-0f8925703f57"
      },
      "execution_count": 14,
      "outputs": [
        {
          "output_type": "execute_result",
          "data": {
            "text/plain": [
              "<tf.Tensor: shape=(3, 2, 3), dtype=float32, numpy=\n",
              "array([[[ 134.33382  ,  -17.328762 ,  -90.35362  ],\n",
              "        [ -40.731388 ,  -13.250099 ,   99.280655 ]],\n",
              "\n",
              "       [[  24.042496 ,  -18.281195 ,   -6.8287354],\n",
              "        [  50.604687 ,  -34.24412  ,   74.72541  ]],\n",
              "\n",
              "       [[ 127.27751  ,  -56.893227 ,  129.34631  ],\n",
              "        [ -52.75166  ,   58.70645  , -196.2848   ]]], dtype=float32)>"
            ]
          },
          "metadata": {},
          "execution_count": 14
        }
      ]
    },
    {
      "cell_type": "markdown",
      "source": [
        "tensor reductoin\n"
      ],
      "metadata": {
        "id": "W0SqEWawFF_S"
      }
    },
    {
      "cell_type": "code",
      "source": [
        "a = tf.random.uniform(shape=(2,17,5,7), minval=-10.0, maxval=10.0)\n",
        "b = tf.random.uniform(shape=(11,2,4,17,6), minval=-10.0, maxval=10.0)\n",
        "\n",
        "tf.einsum('pqrs,tpwqm->rstwm', a, b).shape"
      ],
      "metadata": {
        "colab": {
          "base_uri": "https://localhost:8080/"
        },
        "id": "15zSF4tiGUMv",
        "outputId": "f340baad-4419-4cbc-ff5e-78d67e3f2f5f"
      },
      "execution_count": 15,
      "outputs": [
        {
          "output_type": "execute_result",
          "data": {
            "text/plain": [
              "TensorShape([5, 7, 11, 4, 6])"
            ]
          },
          "metadata": {},
          "execution_count": 15
        }
      ]
    },
    {
      "cell_type": "markdown",
      "source": [
        "transpose"
      ],
      "metadata": {
        "id": "pr2vgTvJFKNE"
      }
    },
    {
      "cell_type": "code",
      "source": [
        "print(tf.einsum(\"ij -> ji\", x))"
      ],
      "metadata": {
        "colab": {
          "base_uri": "https://localhost:8080/"
        },
        "id": "tuYtO11BGXXc",
        "outputId": "d4cac104-4d34-43da-bcf3-2d8809ba2164"
      },
      "execution_count": 16,
      "outputs": [
        {
          "output_type": "stream",
          "name": "stdout",
          "text": [
            "tf.Tensor(\n",
            "[[-2.1658254  6.729145 ]\n",
            " [ 8.22505    6.849077 ]\n",
            " [-3.808651   6.204609 ]], shape=(3, 2), dtype=float32)\n"
          ]
        }
      ]
    },
    {
      "cell_type": "markdown",
      "source": [
        "bilinear transformation"
      ],
      "metadata": {
        "id": "RrW_dGhxFLvQ"
      }
    },
    {
      "cell_type": "code",
      "source": [
        "a = tf.random.uniform(shape=(2,3), minval=-10.0, maxval=10.0)\n",
        "b = tf.random.uniform(shape=(5,3,7), minval=-10.0, maxval=10.0)\n",
        "c = tf.random.uniform(shape=(2,7), minval=-10.0, maxval=10.0)\n",
        "tf.einsum('ik,jkl,il->ij', a, b, c)\n",
        "     "
      ],
      "metadata": {
        "colab": {
          "base_uri": "https://localhost:8080/"
        },
        "id": "KMSGUb_IGZSw",
        "outputId": "ba7c8b70-2171-4d68-e263-3f8e5373a8e0"
      },
      "execution_count": 17,
      "outputs": [
        {
          "output_type": "execute_result",
          "data": {
            "text/plain": [
              "<tf.Tensor: shape=(2, 5), dtype=float32, numpy=\n",
              "array([[ 559.5431  , -329.48898 ,  -99.15325 ,  763.09424 ,  133.90778 ],\n",
              "       [ -48.326393,   71.41156 ,  -42.681236,  380.50006 , -271.79953 ]],\n",
              "      dtype=float32)>"
            ]
          },
          "metadata": {},
          "execution_count": 17
        }
      ]
    },
    {
      "cell_type": "markdown",
      "source": [
        "attention"
      ],
      "metadata": {
        "id": "PO6nLzdPFNK7"
      }
    },
    {
      "cell_type": "code",
      "source": [
        "def random_tensors(shape, num=1, requires_grad=False):\n",
        "    tensors = [tf.Variable(tf.random.normal(shape), trainable=requires_grad) for i in range(num)]\n",
        "    return tensors[0] if num == 1 else tensors\n",
        "\n",
        "bM, br, w = random_tensors([7], num=3, requires_grad=True)\n",
        "WY, Wh, Wr, Wt = random_tensors([7, 7], num=4, requires_grad=True)\n",
        "\n",
        "print(bM, br, w)\n",
        "print(WY, Wh, Wr, Wt)\n",
        "\n",
        "def attention(Y, ht, rt1):\n",
        "    tmp = tf.einsum(\"ik,kl->il\", ht, Wh) + tf.einsum(\"ik,kl->il\", rt1, Wr)\n",
        "    Mt = tf.math.tanh(tf.einsum(\"ijk,kl->ijl\", Y, WY) + tf.expand_dims(tmp, 1) + bM)\n",
        "    at = Softmax(axis=1)(tf.einsum(\"ijk,k->ij\", Mt, w))\n",
        "    rt = tf.einsum(\"ijk,ij->ik\", Y, at) + tf.math.tanh(tf.einsum(\"ij,jk->ik\", rt1, Wt) + br)\n",
        "    \n",
        "    return rt, at\n",
        "\n",
        "\n",
        "Y = tf.constant(tf.random.normal([3, 5, 7]))\n",
        "\n",
        "ht, rt1 = random_tensors([3, 7], num=2)\n",
        "\n",
        "print(ht)\n",
        "print(rt1)\n",
        "\n",
        "rt, at = attention(Y, ht, rt1)\n",
        "print(at)"
      ],
      "metadata": {
        "colab": {
          "base_uri": "https://localhost:8080/"
        },
        "id": "Jsy_J6nuGeob",
        "outputId": "32ff0ea7-d4d8-4b39-898b-138f9053d5e2"
      },
      "execution_count": 18,
      "outputs": [
        {
          "output_type": "stream",
          "name": "stdout",
          "text": [
            "<tf.Variable 'Variable:0' shape=(7,) dtype=float32, numpy=\n",
            "array([-0.7089832 ,  0.5624019 , -0.6840893 ,  0.03597113,  0.9779826 ,\n",
            "        2.6247714 , -2.3527417 ], dtype=float32)> <tf.Variable 'Variable:0' shape=(7,) dtype=float32, numpy=\n",
            "array([ 0.22511412, -0.6013475 , -0.7842833 ,  0.05097978, -0.79549587,\n",
            "       -0.32434383,  0.40228274], dtype=float32)> <tf.Variable 'Variable:0' shape=(7,) dtype=float32, numpy=\n",
            "array([-0.11647047, -0.05216181, -0.86743826,  0.17193635,  0.4600736 ,\n",
            "       -0.39271578,  1.7877902 ], dtype=float32)>\n",
            "<tf.Variable 'Variable:0' shape=(7, 7) dtype=float32, numpy=\n",
            "array([[-0.84986687,  0.44461298, -0.14038365, -0.34058392,  0.30389097,\n",
            "        -1.1205903 , -0.270132  ],\n",
            "       [ 0.92856604, -1.2996588 ,  0.8174464 , -1.4669772 ,  0.0517964 ,\n",
            "        -0.8099352 , -0.73960286],\n",
            "       [ 0.40043527, -1.7654386 , -1.1371478 ,  0.95960563,  0.08699208,\n",
            "        -1.0108954 , -0.9886355 ],\n",
            "       [ 1.2375736 , -0.13933623,  0.49699235, -0.02013335,  0.1903941 ,\n",
            "        -1.2459924 ,  0.19215046],\n",
            "       [-0.9318855 ,  0.7678818 , -1.0783424 , -0.2738742 ,  0.516057  ,\n",
            "         0.44609243,  1.0824419 ],\n",
            "       [-0.5486288 , -0.99009144, -1.3015649 , -0.5144342 , -0.39487267,\n",
            "         0.69672024, -0.06757785],\n",
            "       [ 1.8591968 , -0.8620999 , -1.2961756 ,  1.4964838 ,  0.1316948 ,\n",
            "        -0.13531654, -1.0368264 ]], dtype=float32)> <tf.Variable 'Variable:0' shape=(7, 7) dtype=float32, numpy=\n",
            "array([[ 0.96787083,  0.271377  ,  0.5006881 ,  0.29015765,  0.15184605,\n",
            "        -0.39419374,  0.5181274 ],\n",
            "       [-1.88772   ,  0.13752207,  0.43868998,  0.57369184,  0.9499812 ,\n",
            "        -1.8697563 ,  1.1503619 ],\n",
            "       [-1.1286149 ,  1.3788351 , -1.5365798 ,  1.1118224 ,  3.0601132 ,\n",
            "        -1.6486685 ,  2.519443  ],\n",
            "       [ 0.5473337 ,  1.4193177 , -0.15364897, -0.9189232 , -0.5425968 ,\n",
            "         1.1372266 , -0.61896205],\n",
            "       [ 1.8144283 ,  0.8047571 ,  0.09024744,  0.28386343, -0.19923347,\n",
            "        -0.3092762 , -0.9851311 ],\n",
            "       [-0.18581375,  0.9501693 , -0.4036456 ,  0.0692874 , -1.0162715 ,\n",
            "        -0.82198167, -0.60465133],\n",
            "       [ 0.57612944,  1.0791959 , -0.23640265,  1.3817936 , -1.03654   ,\n",
            "         1.6889691 ,  0.20393872]], dtype=float32)> <tf.Variable 'Variable:0' shape=(7, 7) dtype=float32, numpy=\n",
            "array([[ 0.79801947, -1.2967927 ,  0.6783947 , -0.87777764, -1.8045255 ,\n",
            "         0.5092551 ,  0.09233874],\n",
            "       [ 2.4191728 ,  1.0876129 ,  0.6692843 ,  1.6837945 ,  0.27820113,\n",
            "         0.26918745, -0.17456721],\n",
            "       [ 0.98590934,  0.6467884 , -0.67011046,  0.51443666,  0.6623047 ,\n",
            "         0.47148386, -0.02771251],\n",
            "       [-0.24669193, -0.09205361,  0.4763008 ,  1.5821365 ,  0.2374644 ,\n",
            "        -0.28760603, -0.10330267],\n",
            "       [ 0.39725038, -0.4048154 , -1.0146279 , -2.244794  , -0.55759406,\n",
            "         0.95609325, -1.2471224 ],\n",
            "       [-1.3657581 , -0.3975235 , -0.7689835 , -0.04869867,  0.7391241 ,\n",
            "         0.09760626, -0.42949608],\n",
            "       [ 0.37260208,  0.65642595, -1.0851873 , -1.1775753 ,  1.3499796 ,\n",
            "         1.1596154 ,  0.17820458]], dtype=float32)> <tf.Variable 'Variable:0' shape=(7, 7) dtype=float32, numpy=\n",
            "array([[ 9.4143420e-02, -6.8479955e-01, -3.8311806e-01, -1.2905377e+00,\n",
            "         6.9507337e-01,  1.0932086e-01, -5.3608274e-01],\n",
            "       [-9.2254944e-02, -9.0260643e-01, -1.2093396e+00, -6.2449425e-01,\n",
            "        -8.8830543e-01, -2.3840933e-01, -7.0288979e-02],\n",
            "       [-1.5113281e+00, -8.0658507e-01,  2.4082062e-01,  1.0795010e+00,\n",
            "        -2.2198275e-01,  6.8826631e-02, -7.1690720e-01],\n",
            "       [-1.1886331e+00,  9.9709964e-01,  1.5856801e-01,  2.2832222e-01,\n",
            "        -1.0036565e-02,  5.9879231e-01, -2.9042317e-02],\n",
            "       [-1.7159648e-03, -9.4908643e-01, -6.1087984e-01,  4.5739681e-01,\n",
            "         3.7568739e-01, -6.6330022e-01, -8.0806065e-01],\n",
            "       [-2.6686673e+00, -1.0540404e+00, -2.0808050e-02, -5.3719980e-01,\n",
            "        -1.5328681e-01,  3.9595148e-01,  2.1415995e-01],\n",
            "       [ 1.0716612e+00, -1.0010833e+00,  7.9011708e-01, -2.1824135e-01,\n",
            "         4.6664056e-01,  5.7697278e-01, -1.4519445e+00]], dtype=float32)>\n",
            "<tf.Variable 'Variable:0' shape=(3, 7) dtype=float32, numpy=\n",
            "array([[-0.744717  , -0.7610989 ,  0.18671997,  0.4313643 , -0.9263449 ,\n",
            "         0.22329955, -0.49181694],\n",
            "       [-0.3498822 , -1.1062689 , -0.00999921, -0.8026736 ,  1.0510619 ,\n",
            "        -0.16548106, -0.3347525 ],\n",
            "       [-0.7785823 ,  0.80679935,  0.20222992,  0.50488114, -0.01850637,\n",
            "         0.72138214,  0.3422236 ]], dtype=float32)>\n",
            "<tf.Variable 'Variable:0' shape=(3, 7) dtype=float32, numpy=\n",
            "array([[-1.0072048 ,  0.89548105,  0.07985014,  1.5913836 ,  0.20689054,\n",
            "        -0.00600049,  0.5027705 ],\n",
            "       [ 1.078016  , -2.4022353 ,  0.5785302 ,  1.5892053 ,  0.47781593,\n",
            "        -1.0903758 , -2.00379   ],\n",
            "       [-0.8933095 ,  1.4218397 ,  0.3023746 ,  0.95101464, -0.41190732,\n",
            "         2.2581997 , -0.5875588 ]], dtype=float32)>\n",
            "tf.Tensor(\n",
            "[[0.13984919 0.18230449 0.3633338  0.17922236 0.13529019]\n",
            " [0.15276359 0.09924683 0.11895027 0.48391223 0.14512701]\n",
            " [0.28874463 0.19440593 0.05734411 0.06407077 0.39543453]], shape=(3, 5), dtype=float32)\n"
          ]
        }
      ]
    },
    {
      "cell_type": "markdown",
      "source": [
        "tree qn"
      ],
      "metadata": {
        "id": "hprOcYjBFP2p"
      }
    },
    {
      "cell_type": "code",
      "source": [
        "b = tf.Variable(tf.random.normal([5, 3]))\n",
        "W = tf.Variable(tf.random.normal([5, 3, 3]))\n",
        "\n",
        "print(b)\n",
        "print(W)\n",
        "\n",
        "def transition(zl):\n",
        "  return tf.expand_dims(zl, axis=1) + tf.math.tanh(tf.einsum(\"bk,aki->bai\", zl, W) + b)\n",
        "\n",
        "zl = tf.random.normal([2, 3])\n",
        "\n",
        "zl\n",
        "print(transition(zl))\n"
      ],
      "metadata": {
        "colab": {
          "base_uri": "https://localhost:8080/"
        },
        "id": "tPnXDaCVGnj5",
        "outputId": "9e15c10f-4244-46f4-b879-470643d6f012"
      },
      "execution_count": 20,
      "outputs": [
        {
          "output_type": "stream",
          "name": "stdout",
          "text": [
            "<tf.Variable 'Variable:0' shape=(5, 3) dtype=float32, numpy=\n",
            "array([[ 1.2794458 , -0.31569585,  1.2092395 ],\n",
            "       [-0.28959262, -0.11288652,  0.94261295],\n",
            "       [ 0.42567143, -0.06800645,  0.06119423],\n",
            "       [ 0.13189146,  0.22345331, -1.98815   ],\n",
            "       [-0.11826276,  0.9600913 , -0.90108657]], dtype=float32)>\n",
            "<tf.Variable 'Variable:0' shape=(5, 3, 3) dtype=float32, numpy=\n",
            "array([[[-0.82465965, -0.02026201,  0.11017417],\n",
            "        [ 0.68671507,  0.5564525 , -0.05423731],\n",
            "        [-0.20295382, -0.07523216, -0.13472307]],\n",
            "\n",
            "       [[-0.7306126 ,  0.77577025, -1.5224178 ],\n",
            "        [ 1.382998  , -0.38332722,  1.3451985 ],\n",
            "        [-0.32168388, -0.5818914 , -0.34726024]],\n",
            "\n",
            "       [[-0.8179229 , -0.04278861, -0.5552251 ],\n",
            "        [ 0.5011446 , -1.3177824 , -1.0807792 ],\n",
            "        [ 1.2364876 , -0.5974472 , -2.0174239 ]],\n",
            "\n",
            "       [[ 0.99304485,  1.0578467 ,  0.03344636],\n",
            "        [ 0.25676224,  1.0589397 ,  0.28696394],\n",
            "        [ 1.235737  , -0.299699  , -0.13352005]],\n",
            "\n",
            "       [[-0.6227369 ,  0.17882234, -0.6349022 ],\n",
            "        [ 0.35668164, -0.30916378, -0.40831825],\n",
            "        [ 1.3766183 ,  0.6866942 , -0.34835878]]], dtype=float32)>\n",
            "tf.Tensor(\n",
            "[[[ 0.48774868 -2.2669556   0.3580798 ]\n",
            "  [-0.38498384 -0.62351507 -1.4757657 ]\n",
            "  [-0.29421198 -0.49179053  0.4502015 ]\n",
            "  [ 0.30927554 -1.9505627  -1.5137435 ]\n",
            "  [-0.33771342 -0.6458782  -0.99542123]]\n",
            "\n",
            " [[ 0.7404991  -0.93484825  2.0675929 ]\n",
            "  [-0.6652828  -0.8729083   0.94771147]\n",
            "  [ 1.1425717  -0.7053578   0.2970366 ]\n",
            "  [ 1.1650771  -0.6985786   0.2952085 ]\n",
            "  [ 1.0935895   0.5843407   0.4051094 ]]], shape=(2, 5, 3), dtype=float32)\n"
          ]
        }
      ]
    }
  ]
}